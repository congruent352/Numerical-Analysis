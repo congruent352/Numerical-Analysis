{
  "nbformat": 4,
  "nbformat_minor": 0,
  "metadata": {
    "colab": {
      "name": "Untitled0.ipynb",
      "provenance": [],
      "collapsed_sections": [],
      "authorship_tag": "ABX9TyPgFOvB8hYr0xI2yNZWdOzP",
      "include_colab_link": true
    },
    "kernelspec": {
      "name": "python3",
      "display_name": "Python 3"
    }
  },
  "cells": [
    {
      "cell_type": "markdown",
      "metadata": {
        "id": "view-in-github",
        "colab_type": "text"
      },
      "source": [
        "<a href=\"https://colab.research.google.com/github/congruent352/Numerical-Analysis/blob/master/Untitled0.ipynb\" target=\"_parent\"><img src=\"https://colab.research.google.com/assets/colab-badge.svg\" alt=\"Open In Colab\"/></a>"
      ]
    },
    {
      "cell_type": "code",
      "metadata": {
        "id": "JZtIWP6iSk0P",
        "colab_type": "code",
        "colab": {}
      },
      "source": [
        "import numpy as np\n",
        "import matplotlib.pyplot as plt"
      ],
      "execution_count": 0,
      "outputs": []
    },
    {
      "cell_type": "markdown",
      "metadata": {
        "id": "YTfHEWMtRzAm",
        "colab_type": "text"
      },
      "source": [
        "# **Euler's Method**\n",
        "\n",
        "Use the following approximation;\n",
        "$$y'(t) \\simeq \\frac{y(t+h) - y(t)}{h}$$ then we have $$y_{n+1} = y_n + hf(t_n, y_n).$$"
      ]
    },
    {
      "cell_type": "code",
      "metadata": {
        "id": "NBmq8uNUScgU",
        "colab_type": "code",
        "outputId": "f6cee6c2-c1ae-453f-8399-068e0ddcd931",
        "colab": {
          "base_uri": "https://localhost:8080/",
          "height": 284
        }
      },
      "source": [
        "# Euler's Method\n",
        "# Example: dy/dt = y,  the exact solution is exp(t)\n",
        "def f(t,y):\n",
        "  return y\n",
        "\n",
        "t = np.linspace(0, 1, 100001)\n",
        "h = 1/(len(t) -1)\n",
        "y = np.zeros_like(t)\n",
        "y[0] = 1              # Initial value\n",
        "\n",
        "for i in range(len(t)-1):\n",
        "  y[i+1] = y[i] + h*f(t[i], y[i])\n",
        "\n",
        "error = np.exp(t) - y\n",
        "plt.plot(t, np.abs(error))"
      ],
      "execution_count": 0,
      "outputs": [
        {
          "output_type": "execute_result",
          "data": {
            "text/plain": [
              "[<matplotlib.lines.Line2D at 0x7fe1cb447da0>]"
            ]
          },
          "metadata": {
            "tags": []
          },
          "execution_count": 10
        },
        {
          "output_type": "display_data",
          "data": {
            "image/png": "[encoded data removed]",
            "text/plain": [
              "<Figure size 432x288 with 1 Axes>"
            ]
          },
          "metadata": {
            "tags": []
          }
        }
      ]
    },
    {
      "cell_type": "markdown",
      "metadata": {
        "id": "2NSfGOxWPw-w",
        "colab_type": "text"
      },
      "source": [
        "# **Trapezoidal Rule**\n",
        "\n",
        "Use the following approximation:\n",
        "\n",
        "\\begin{align*}\n",
        "y_{n+1} - y_n & = \\int_{t_n}^{t_{n+1}} y'(t)dt\n",
        "\\\\ & = \\int_{t_n}^{t_{n+1}} f(t, y(t))dt\n",
        "\\\\ & = \\frac{h}{2} [f(t_n, y_n) + f(t_{n+1}, y_{n+1})]\n",
        "\\end{align*}\n",
        "and hence,\n",
        "$$y_{n+1} = y_n + \\frac{h}{2} [f(t_n, y_n) + f(t_{n+1}, y_{n+1})]$$\n",
        "\n",
        "**Error:** $\\mathcal{O}(h^2)$ - Something to prove later\n",
        "\n",
        "* Even though the error got better, the formula is implicit. The question is, how can we modify this so that we get the same order of accuracy, but is an explicit method?\n",
        "\n",
        "**Idea:** In right-hand side, replace $y_{n+1}$ with result of one step of Euler's method, i.e., $$z_{n+1} = y_n + h f(t_n, y_n)$$ and we have $$y_{n+1} = y_n + \\frac{h}{2} [f(y_n, y_n) + f(t_{n+1}, z_{n+1})]$$\n",
        "which is called **Heun's Method**"
      ]
    },
    {
      "cell_type": "code",
      "metadata": {
        "id": "m48Y8YWNRwMw",
        "colab_type": "code",
        "outputId": "8823764b-ef32-4308-add3-1205c7707275",
        "colab": {
          "base_uri": "https://localhost:8080/",
          "height": 213
        }
      },
      "source": [
        "# Trapezoidal Rule\n",
        "# Example: y'' = -ky, y(0)=1, y'(0)=0\n",
        "# Convert the eq into the system of equations: y' = v, v' = -ky\n",
        "\n",
        "def f(t,y,v):\n",
        "  return [v, -y]\n",
        "\n",
        "t = np.linspace(0, 2, 201)\n",
        "h = 2/(len(t) - 1)\n",
        "y = np.zeros_like(t)\n",
        "v = np.zeros_like(t)\n",
        "z = np.zeros([2, len(t)])\n",
        "\n",
        "y[0] = 1\n",
        "v[0] = 0\n",
        "\n",
        "for i in range(len(t) - 1):\n",
        "  z[:, i+1] = [y[i],  v[i]] + f(t[i], y[i], v[i])"
      ],
      "execution_count": 0,
      "outputs": [
        {
          "output_type": "error",
          "ename": "ValueError",
          "evalue": "ignored",
          "traceback": [
            "\u001b[0;31m---------------------------------------------------------------------------\u001b[0m",
            "\u001b[0;31mValueError\u001b[0m                                Traceback (most recent call last)",
            "\u001b[0;32m<ipython-input-16-8f74cb3a8127>\u001b[0m in \u001b[0;36m<module>\u001b[0;34m()\u001b[0m\n\u001b[1;32m     13\u001b[0m \u001b[0;34m\u001b[0m\u001b[0m\n\u001b[1;32m     14\u001b[0m \u001b[0;32mfor\u001b[0m \u001b[0mi\u001b[0m \u001b[0;32min\u001b[0m \u001b[0mrange\u001b[0m\u001b[0;34m(\u001b[0m\u001b[0mlen\u001b[0m\u001b[0;34m(\u001b[0m\u001b[0mt\u001b[0m\u001b[0;34m)\u001b[0m \u001b[0;34m-\u001b[0m \u001b[0;36m1\u001b[0m\u001b[0;34m)\u001b[0m\u001b[0;34m:\u001b[0m\u001b[0;34m\u001b[0m\u001b[0;34m\u001b[0m\u001b[0m\n\u001b[0;32m---> 15\u001b[0;31m   \u001b[0mz\u001b[0m\u001b[0;34m[\u001b[0m\u001b[0;34m:\u001b[0m\u001b[0;34m,\u001b[0m \u001b[0mi\u001b[0m\u001b[0;34m+\u001b[0m\u001b[0;36m1\u001b[0m\u001b[0;34m]\u001b[0m \u001b[0;34m=\u001b[0m \u001b[0;34m[\u001b[0m\u001b[0my\u001b[0m\u001b[0;34m[\u001b[0m\u001b[0mi\u001b[0m\u001b[0;34m]\u001b[0m\u001b[0;34m,\u001b[0m  \u001b[0mv\u001b[0m\u001b[0;34m[\u001b[0m\u001b[0mi\u001b[0m\u001b[0;34m]\u001b[0m\u001b[0;34m]\u001b[0m \u001b[0;34m+\u001b[0m \u001b[0mf\u001b[0m\u001b[0;34m(\u001b[0m\u001b[0mt\u001b[0m\u001b[0;34m[\u001b[0m\u001b[0mi\u001b[0m\u001b[0;34m]\u001b[0m\u001b[0;34m,\u001b[0m \u001b[0my\u001b[0m\u001b[0;34m[\u001b[0m\u001b[0mi\u001b[0m\u001b[0;34m]\u001b[0m\u001b[0;34m,\u001b[0m \u001b[0mv\u001b[0m\u001b[0;34m[\u001b[0m\u001b[0mi\u001b[0m\u001b[0;34m]\u001b[0m\u001b[0;34m)\u001b[0m\u001b[0;34m\u001b[0m\u001b[0;34m\u001b[0m\u001b[0m\n\u001b[0m",
            "\u001b[0;31mValueError\u001b[0m: cannot copy sequence with size 4 to array axis with dimension 2"
          ]
        }
      ]
    },
    {
      "cell_type": "markdown",
      "metadata": {
        "id": "xpkouIxhWIJI",
        "colab_type": "text"
      },
      "source": [
        "## **General framework for error analysis**\n",
        "\n",
        "\\begin{align*}\n",
        "y_{k+1} &= y_k + h F_h (t_k, y_k)\n",
        "\\\\ y(t_{k+1}) &= y(t_k) + h  F_h (t_k, y(t_k)) + \\text{LTE}\n",
        "\\end{align*}\n",
        "where LTE stands for *local truncation error*\n",
        "\n",
        "Assume: $F_h(t, y)$ is Lipschitz with a Lipschitz constant that is independent of $h$ (for sufficiently small $h$)\n",
        "Let $L$ be such a Lipschitz constant. Following the proof we used for Euler's method, we get $||e_{k+1}|| \\leq (1+hL)||e_k|| + \\underbrace{||\\text{LTE}||}_{\\mathcal{O}(h^{p+1})}$. Then \n",
        "\\begin{align*}\n",
        "||e_h|| & \\leq (e^{L(t_h - t_0)} - 1)\\frac{1}{Lh} \\mathcal{O}(h^{p+1})\n",
        "\\\\ & = \\mathcal{O}(h^p)\n",
        "\\end{align*}\n",
        "for $t_k - t_0$ bounded.\n",
        "\n",
        "**LTE for implicit trapezoidal method**:\n",
        "\\begin{align*}\n",
        "y_{k+1} &= y_k + \\frac{h}{2} [ f(t_k, y_k) + f(t_{k+1}, y_{k+1})]\n",
        "\\\\ y(t_{k+1}) & = y(t_k) + \\frac{h}{2} [ f(t_k, y(t_k)) + f(t_{k+1}, y(t_{k+1}))] + \\underbrace{\\int_{t_k}^{t_{k+1}}[y(t) - F_{k,1}(t)] dt}_{\\text{interpolant error}}\n",
        " \\\\ & = y(t_k) + \\frac{h}{2} [ f(t_k, y(t_k)) + f(t_{k+1}, y(t_{k+1}))] + \\int_{t_k}^{t_{k+1}} \\mathcal{O}(h^2)dt\n",
        " \\\\ & = y(t_k) + \\frac{h}{2} [ f(t_k, y(t_k)) + f(t_{k+1}, y(t_{k+1}))] + \\underbrace{\\mathcal{O}(h^3)}_{\\text{local truncation error}}\n",
        "\\end{align*}\n",
        "\n",
        "**Heun's method**:\n",
        "\n",
        "Using the Taylor's Series, we have\n",
        "\\begin{align*}\n",
        "y(t_{n+1}) & = y(t_n+h)\n",
        "\\\\ & = y(t_n) + y'(t_n)h + \\frac{1}{2}y''(t_n)h^2 + \\mathcal{O}(h^3)\n",
        "\\\\ & = y(t_n) + hf(t_n, y(t_n))+ \\frac{1}{2}h^2 \\left( \\frac{\\partial f}{\\partial t}(t_n, y(t_n)) + \\nabla f(t_n, y(t_m)) f(t_n, y(t_n))\\right)\n",
        "\\end{align*}\n",
        "because $y'(t) = f(t,y(t))$.\n",
        "\n",
        "Now, define $e_n = y(t_n)- y_n$. At first, define\n",
        "\\begin{align*}\n",
        "& \\hat{z}_{n+1} = y(t_n) + hf(t_n, y(t_n))\n",
        "\\\\ & y(t_{n+1}) = y(t_n) + \\frac{1}{2} h[f(t_n, y(t_n))+f(t_{n+1}, \\hat{z}_{n+1})] + \\text{LTE}_n \n",
        "\\end{align*}\n",
        "and then we have\n",
        "\\begin{align*}\n",
        " \\hat{z}_{n+1} - z_{n+1} &= y(t_n) - y_n + h [f(t_n, y(t_n)) - f(t_n, y_n)]\n",
        "\\\\  ||\\hat{z}_{n+1} - z_{n+1}|| & \\leq ||e_n|| + h || f(t_n, y(t_n)) - f(t_n, y_n)||\n",
        "\\\\ & \\leq ||e_n|| + hL||e_n||\n",
        "\\\\ &  = (1+hL)||e_n||\n",
        "\\end{align*}\n",
        "Also we have\n",
        "\\begin{align*}\n",
        "y(t_{n+1}) - y_{n+1} & = y(t_n) - y_n + \\frac{h}{2} [f(t_n, y(t_n)) - f(t_n, y_n) + f(t_{n+1}, \\hat{z}_{n+1}) - f(t_{n+1}, z_{n+1})] + \\text{LTE}_n\n",
        "\\\\ ||e_{n+1}|| & \\leq ||e_n|| + \\frac{h}{2} \\left[ || f(t_n, y(t_n)) - f(t_n, y_n)|| + || f(t_{n+1}, \\hat{z}_{n+1}) - f(t_{n+1}, z_{n+1}|| \\right] + ||\\text{LTE}_n||\n",
        "\\\\ & \\leq ||e_n|| + \\frac{h}{2} \\left[ L ||e_n|| + L(1+hL)||e_n||\\right] + \\mathcal{O}(h^3)\n",
        "\\\\ & = (1+hL+\\frac{1}{2}(hL)^2 ) ||e_n|| + \\mathcal{O}(h^3)\n",
        "\\end{align*}\n",
        "\n",
        "Then we want $(1+hL+\\frac{1}{2}(hL)^2 ) \\leq 1+h\\hat{L}$. We just need to make $\\hat{L}$ a little bit bigger than $L$:\n",
        "\\begin{align*}\n",
        "L+\\frac{1}{2}hL^2 &\\leq \\hat{L}\n",
        "\\\\ \\Rightarrow L(1+\\frac{1}{2}hL) &\\leq \\hat{L}\n",
        "\\end{align*}\n",
        "For $h>0$ with $hL\\leq 1$, we can use $\\hat{L} = \\frac{3}{2}L$.\n",
        "\n",
        "Or, say $hL\\leq \\frac{1}{10}$, we can use $\\hat{L} = \\frac{21}{20}L$.\n",
        "\n",
        "Put $||\\text{LTE}_n|| \\leq Mh^3$. Then $$||e_{n+1}|| \\leq (1+h\\hat{L}) ||e_n|| + Mh^3.$$\n",
        "Since $e_n = 0 \\ (y_0 = y(t_0))$, we get \n",
        "\\begin{align*}\n",
        "||e_h|| &\\leq \\frac{(1+h\\hat{L})^k - 1}{(1+h\\hat{L}) - 1} \\cdot Mh^3\n",
        "\\\\ &\\leq \\frac{(e^{h\\hat{L}})^k - 1}{h\\hat{L}} Mh^3\n",
        "\\\\ & = \\big[ e^{\\hat{L}(t_k-t_0)} - 1 \\big] \\frac{M}{\\hat{L}}h^2\n",
        "\\\\ & = \\mathcal{O}(h^2)\n",
        "\\end{align*}\n",
        "for $|t_k-t_0|\\leq T$(fixed)\n",
        "\n",
        "For improving the gloval error, a natural approach is to improve the order of the local truncation error. \n",
        "\n",
        "* Can we do better? > Yes, but it gets complicated.\n",
        "\n"
      ]
    },
    {
      "cell_type": "markdown",
      "metadata": {
        "id": "8GqB_EYD0mJW",
        "colab_type": "text"
      },
      "source": [
        "---\n",
        "\n",
        "**Standard $4^{\\text{th}}$order Runge - Kutta**\n",
        "\n",
        "\\begin{align*}\n",
        "& v_1 = f(t_n, y_n)\n",
        "\\\\ & v_2 = f(t_n+\\frac{1}{2}h, y_n + \\frac{1}{2}hv_1)\n",
        "\\\\ & v_3 = f(t_n + \\frac{1}{2}h, y_n+\\frac{1}{2}hv_2)\n",
        "\\\\ & v_4 = f(t_n+h, y_n + hv_3)\n",
        "\\\\ & y_{n+1} = y_n + \\frac{h}{6} [v_1 + 2v_2 + 2v_3 + v_4]\n",
        "\\end{align*}\n",
        "\n",
        "Then $\\text{LTE} = \\mathcal{O}(h^5)$ and the gloval error(on fixed time interval) is $\\mathcal{O}(h^4).$\n",
        "\n",
        "**General Runge - Kutta**\n",
        "\n",
        "\\begin{align*}\n",
        "v_i = f(t_n + c_i h, y_n+h \\sum\\limits_{j=1} s a_{ij}v_j) i = 1,\\cdots,s\n",
        "\\\\ y_{n+1} = y_n + h\\sum\\limits_{j=1}^s b_j v_j\n",
        "\\end{align*}\n",
        "where $s$ is the number of stages  = number of function evaluation per stap\n"
      ]
    }
  ]
}